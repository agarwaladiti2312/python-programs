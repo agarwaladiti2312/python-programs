{
 "cells": [
  {
   "cell_type": "code",
   "execution_count": 5,
   "id": "c6e6f192",
   "metadata": {},
   "outputs": [
    {
     "name": "stdout",
     "output_type": "stream",
     "text": [
      "enter number:88\n",
      " not prime\n"
     ]
    }
   ],
   "source": [
    "# Q11\n",
    "a=int(input(\"enter number:\"))\n",
    "c=0\n",
    "for b in range(1,a):\n",
    "    if (a%b)==0:\n",
    "        c+=1\n",
    "if c>1:\n",
    "    print(\" not prime\")\n",
    "else:\n",
    "    print(\"prime\")"
   ]
  },
  {
   "cell_type": "code",
   "execution_count": 4,
   "id": "2caffefa",
   "metadata": {},
   "outputs": [
    {
     "name": "stdout",
     "output_type": "stream",
     "text": [
      "enter n:13\n",
      "sum: 49\n"
     ]
    }
   ],
   "source": [
    "#Q 12a\n",
    "n=int(input(\"enter n:\"))\n",
    "s=0\n",
    "for a in range(1,n+1):\n",
    "    if (a%2)==1:\n",
    "        s=s+a\n",
    "print(\"sum:\",s)"
   ]
  },
  {
   "cell_type": "code",
   "execution_count": 6,
   "id": "bb18f394",
   "metadata": {},
   "outputs": [
    {
     "name": "stdout",
     "output_type": "stream",
     "text": [
      "enter n:100\n",
      "sum: 2550\n"
     ]
    }
   ],
   "source": [
    "#Q 12b\n",
    "n=int(input(\"enter n:\"))\n",
    "s=0\n",
    "for a in range(1,n+1):\n",
    "    if (a%2)==0:\n",
    "        s=s+a\n",
    "print(\"sum:\",s)"
   ]
  },
  {
   "cell_type": "code",
   "execution_count": 9,
   "id": "2ce1b3af",
   "metadata": {},
   "outputs": [
    {
     "name": "stdout",
     "output_type": "stream",
     "text": [
      "enter string:qwertgsvdvvdf\n",
      "not palindrone\n"
     ]
    }
   ],
   "source": [
    "#Q 13\n",
    "s= input(\"enter string:\")\n",
    "r=s[::-1]\n",
    "if r==s:\n",
    "    print(\"palindrone\")\n",
    "else:\n",
    "    print(\"not palindrone\")\n",
    "\n"
   ]
  },
  {
   "cell_type": "code",
   "execution_count": 2,
   "id": "ebf2ae44",
   "metadata": {},
   "outputs": [
    {
     "name": "stdout",
     "output_type": "stream",
     "text": [
      "{'1': '1', '2': '8', '3': '27', '4': '64', '5': '125'}\n"
     ]
    }
   ],
   "source": [
    "#Q 15\n",
    "a={\"1\":\"1\",\"2\":\"8\",\"3\":\"27\",\"4\":\"64\",\"5\":\"125\"}\n",
    "print(a)"
   ]
  },
  {
   "cell_type": "code",
   "execution_count": null,
   "id": "9a367c0e",
   "metadata": {},
   "outputs": [],
   "source": []
  }
 ],
 "metadata": {
  "kernelspec": {
   "display_name": "Python 3 (ipykernel)",
   "language": "python",
   "name": "python3"
  },
  "language_info": {
   "codemirror_mode": {
    "name": "ipython",
    "version": 3
   },
   "file_extension": ".py",
   "mimetype": "text/x-python",
   "name": "python",
   "nbconvert_exporter": "python",
   "pygments_lexer": "ipython3",
   "version": "3.9.7"
  }
 },
 "nbformat": 4,
 "nbformat_minor": 5
}
